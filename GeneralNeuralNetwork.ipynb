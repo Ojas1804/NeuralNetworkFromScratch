{
  "nbformat": 4,
  "nbformat_minor": 0,
  "metadata": {
    "colab": {
      "name": "GeneralNeuralNetwork.ipynb",
      "provenance": [],
      "collapsed_sections": [],
      "mount_file_id": "16xwHBQAK9fIowfAOCIZ80IdeqPxKH3Kl",
      "authorship_tag": "ABX9TyNoF7you3KAjEsH8Cy4Ee/H",
      "include_colab_link": true
    },
    "kernelspec": {
      "name": "python3",
      "display_name": "Python 3"
    },
    "language_info": {
      "name": "python"
    }
  },
  "cells": [
    {
      "cell_type": "markdown",
      "metadata": {
        "id": "view-in-github",
        "colab_type": "text"
      },
      "source": [
        "<a href=\"https://colab.research.google.com/github/Ojas1804/NeuralNetworkFromScratch/blob/main/GeneralNeuralNetwork.ipynb\" target=\"_parent\"><img src=\"https://colab.research.google.com/assets/colab-badge.svg\" alt=\"Open In Colab\"/></a>"
      ]
    },
    {
      "cell_type": "code",
      "source": [
        "import numpy as np\n",
        "import pandas as pd\n",
        "from ArtificialNeuralNetwork import ANN\n",
        "\n",
        "train_data=pd.read_csv(\"/content/drive/MyDrive/CSV_Files/NN_Data/mnist_train.csv\", header=None)\n",
        "test_data=pd.read_csv(\"/content/drive/MyDrive/CSV_Files/NN_Data/mnist_test.csv\", header=None)"
      ],
      "metadata": {
        "id": "MoYgztp70682"
      },
      "execution_count": null,
      "outputs": []
    },
    {
      "cell_type": "markdown",
      "source": [
        "# **Test Model**"
      ],
      "metadata": {
        "id": "3nXLZAefQltT"
      }
    },
    {
      "cell_type": "code",
      "source": [
        "# normalize data\n",
        "y_train = train_data.iloc[:, 0]\n",
        "y_train = y_train.values.reshape(1, y_train.shape[0])\n",
        "print(y_train.shape)\n",
        "X_train = train_data.iloc[:, 1:]\n",
        "X_train = (X_train/255).astype(\"float32\")\n",
        "\n",
        "y_test = test_data.iloc[:, 0]\n",
        "y_test = y_test.values.reshape(1, y_test.shape[0])\n",
        "X_test = test_data.iloc[:, 1:]\n",
        "X_test = (X_test/255).astype(\"float32\")\n",
        "\n",
        "# run model\n",
        "ann = ANN([784, 261, 87, 29, 10], iters=5, alpha=0.1, hidden_layers=3,\n",
        "                 activation_function=\"sigmoid\")\n",
        "ann.train_model(X_train, y_train)\n",
        "ann.test_model(X_test, y_test)"
      ],
      "metadata": {
        "colab": {
          "base_uri": "https://localhost:8080/"
        },
        "id": "5CQq5j4lQlEK",
        "outputId": "fb56a3e7-e20b-4479-99b5-93acd9f5f8fd"
      },
      "execution_count": null,
      "outputs": [
        {
          "output_type": "stream",
          "name": "stdout",
          "text": [
            "(1, 60000)\n",
            "ITERATION 1 : \n",
            "     Accuracy :  12.04 %\n",
            "----------------------------------------\n",
            "ITERATION 2 : \n",
            "     Accuracy :  45.471666666666664 %\n",
            "----------------------------------------\n",
            "ITERATION 3 : \n",
            "     Accuracy :  83.14333333333333 %\n",
            "----------------------------------------\n",
            "ITERATION 4 : \n",
            "     Accuracy :  89.13499999999999 %\n",
            "----------------------------------------\n",
            "ITERATION 5 : \n",
            "     Accuracy :  90.98 %\n",
            "----------------------------------------\n",
            "        ACCURACY ON TEST DATASET:\n",
            "Accuracy: 91.33 %\n"
          ]
        }
      ]
    },
    {
      "cell_type": "code",
      "source": [
        "ann = ANN([784, 261, 87, 29, 10], iters=5, alpha=0.1, hidden_layers=3,\n",
        "                 activation_function=\"relu\")\n",
        "ann.train_model(X_train, y_train)\n",
        "ann.test_model(X_test, y_test)"
      ],
      "metadata": {
        "id": "pK5ckrPDKQR-",
        "colab": {
          "base_uri": "https://localhost:8080/"
        },
        "outputId": "c4fd1021-c613-4f7d-f113-f341cdeab239"
      },
      "execution_count": null,
      "outputs": [
        {
          "output_type": "stream",
          "name": "stdout",
          "text": [
            "ITERATION 1 : \n",
            "     Accuracy :  89.02666666666667 %\n",
            "----------------------------------------\n",
            "ITERATION 2 : \n",
            "     Accuracy :  95.12666666666667 %\n",
            "----------------------------------------\n",
            "ITERATION 3 : \n",
            "     Accuracy :  96.62333333333333 %\n",
            "----------------------------------------\n",
            "ITERATION 4 : \n",
            "     Accuracy :  97.36166666666666 %\n",
            "----------------------------------------\n",
            "ITERATION 5 : \n",
            "     Accuracy :  97.89666666666666 %\n",
            "----------------------------------------\n",
            "        ACCURACY ON TEST DATASET:\n",
            "Accuracy: 97.13000000000001 %\n"
          ]
        }
      ]
    },
    {
      "cell_type": "code",
      "source": [
        "ann = ANN([784, 261, 87, 29, 10], iters=5, alpha=0.1, hidden_layers=3,\n",
        "                 activation_function=\"tanh\")\n",
        "ann.train_model(X_train, y_train)\n",
        "ann.test_model(X_test, y_test)"
      ],
      "metadata": {
        "colab": {
          "base_uri": "https://localhost:8080/"
        },
        "id": "-I9VxirbmxhK",
        "outputId": "2b90cede-612c-499c-ae12-d172e558d864"
      },
      "execution_count": null,
      "outputs": [
        {
          "output_type": "stream",
          "name": "stdout",
          "text": [
            "ITERATION 1 : \n",
            "     Accuracy :  86.24333333333334 %\n",
            "----------------------------------------\n",
            "ITERATION 2 : \n",
            "     Accuracy :  93.30666666666667 %\n",
            "----------------------------------------\n",
            "ITERATION 3 : \n",
            "     Accuracy :  94.86166666666666 %\n",
            "----------------------------------------\n",
            "ITERATION 4 : \n",
            "     Accuracy :  95.76666666666667 %\n",
            "----------------------------------------\n",
            "ITERATION 5 : \n",
            "     Accuracy :  96.42166666666667 %\n",
            "----------------------------------------\n",
            "        ACCURACY ON TEST DATASET:\n",
            "Accuracy: 96.17999999999999 %\n"
          ]
        }
      ]
    },
    {
      "cell_type": "code",
      "source": [
        ""
      ],
      "metadata": {
        "id": "PS74pbilp5nP"
      },
      "execution_count": null,
      "outputs": []
    }
  ]
}